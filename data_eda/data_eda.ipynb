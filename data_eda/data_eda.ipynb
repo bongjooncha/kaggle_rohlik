{
 "cells": [
  {
   "cell_type": "code",
   "execution_count": 1,
   "metadata": {},
   "outputs": [],
   "source": [
    "import pandas as pd\n",
    "\n",
    "train = pd.read_csv('../data/sales_train.csv')\n",
    "test = pd.read_csv('../data/sales_test.csv')\n",
    "calendar = pd.read_csv('../data/calendar.csv')\n",
    "inventory = pd.read_csv('../data/inventory.csv')\n",
    "solution = pd.read_csv('../data/solution.csv')\n",
    "weights = pd.read_csv('../data/test_weights.csv')"
   ]
  },
  {
   "cell_type": "markdown",
   "metadata": {},
   "source": [
    "## calendar data"
   ]
  },
  {
   "cell_type": "code",
   "execution_count": 4,
   "metadata": {},
   "outputs": [
    {
     "name": "stdout",
     "output_type": "stream",
     "text": [
      "<class 'pandas.core.frame.DataFrame'>\n",
      "RangeIndex: 23016 entries, 0 to 23015\n",
      "Data columns (total 7 columns):\n",
      " #   Column                  Non-Null Count  Dtype \n",
      "---  ------                  --------------  ----- \n",
      " 0   date                    23016 non-null  object\n",
      " 1   holiday_name            930 non-null    object\n",
      " 2   holiday                 23016 non-null  int64 \n",
      " 3   shops_closed            23016 non-null  int64 \n",
      " 4   winter_school_holidays  23016 non-null  int64 \n",
      " 5   school_holidays         23016 non-null  int64 \n",
      " 6   warehouse               23016 non-null  object\n",
      "dtypes: int64(4), object(3)\n",
      "memory usage: 1.2+ MB\n"
     ]
    }
   ],
   "source": [
    "calendar.info()"
   ]
  },
  {
   "cell_type": "code",
   "execution_count": 10,
   "metadata": {},
   "outputs": [
    {
     "name": "stdout",
     "output_type": "stream",
     "text": [
      "date : 3288 \n",
      "['2022-03-16' '2020-03-22' '2018-02-07' ... '2017-01-23' '2023-10-20'\n",
      " '2022-05-02']\n",
      "\n",
      "holiday_name : 37 \n",
      "[nan 'Den boje za svobodu a demokracii' 'Good Friday' 'Easter Monday'\n",
      " '2nd Christmas Day' 'Cyrila a Metodej' 'International womens day'\n",
      " 'Den ceske statnosti' 'Den osvobozeni' 'New Years Day' 'Whit sunday'\n",
      " 'Memorial Day of the Republic' 'Independent Hungary Day' 'Labour Day'\n",
      " 'Memorial Day for the Victims of the Holocaust' 'Reformation Day'\n",
      " 'Den vzniku samostatneho ceskoslovenskeho statu' 'Ascension day'\n",
      " 'Corpus Christi' 'Jan Hus' 'Assumption of the Virgin Mary' 'Epiphany'\n",
      " 'Christmas Eve' 'Memorial day of the 1956 Revolution'\n",
      " 'Memorial Day for the Martyrs of Arad' 'Day of National Unity'\n",
      " '1st Christmas Day' 'Whit monday' 'German Unity Day'\n",
      " 'State Foundation Day' 'All Saints Day' 'Hungary National Day Holiday'\n",
      " 'Christmas Holiday'\n",
      " 'Memorial Day for the Victims of the Communist Dictatorships'\n",
      " 'Peace Festival in Augsburg' 'National Defense Day'\n",
      " '1848 Revolution Memorial Day (Extra holiday)' \"All Saints' Day Holiday\"]\n",
      "\n",
      "holiday : 2 \n",
      "[0 1]\n",
      "\n",
      "shops_closed : 2 \n",
      "[0 1]\n",
      "\n",
      "winter_school_holidays : 2 \n",
      "[0 1]\n",
      "\n",
      "school_holidays : 2 \n",
      "[0 1]\n",
      "\n",
      "warehouse : 7 \n",
      "['Frankfurt_1' 'Prague_2' 'Brno_1' 'Munich_1' 'Prague_3' 'Prague_1'\n",
      " 'Budapest_1']\n",
      "\n"
     ]
    }
   ],
   "source": [
    "cal_lists =calendar.columns.tolist()\n",
    "\n",
    "for list in cal_lists:\n",
    "    print(f'{list} : {calendar[list].nunique()} \\n{calendar[list].unique()}\\n')\n",
    "\n"
   ]
  },
  {
   "cell_type": "code",
   "execution_count": null,
   "metadata": {},
   "outputs": [],
   "source": []
  },
  {
   "cell_type": "markdown",
   "metadata": {},
   "source": [
    "## inventory"
   ]
  },
  {
   "cell_type": "code",
   "execution_count": 11,
   "metadata": {},
   "outputs": [
    {
     "name": "stdout",
     "output_type": "stream",
     "text": [
      "<class 'pandas.core.frame.DataFrame'>\n",
      "RangeIndex: 5432 entries, 0 to 5431\n",
      "Data columns (total 8 columns):\n",
      " #   Column               Non-Null Count  Dtype \n",
      "---  ------               --------------  ----- \n",
      " 0   unique_id            5432 non-null   int64 \n",
      " 1   product_unique_id    5432 non-null   int64 \n",
      " 2   name                 5432 non-null   object\n",
      " 3   L1_category_name_en  5432 non-null   object\n",
      " 4   L2_category_name_en  5432 non-null   object\n",
      " 5   L3_category_name_en  5432 non-null   object\n",
      " 6   L4_category_name_en  5432 non-null   object\n",
      " 7   warehouse            5432 non-null   object\n",
      "dtypes: int64(2), object(6)\n",
      "memory usage: 339.6+ KB\n"
     ]
    }
   ],
   "source": [
    "inventory.info()\n"
   ]
  },
  {
   "cell_type": "code",
   "execution_count": 12,
   "metadata": {},
   "outputs": [
    {
     "name": "stdout",
     "output_type": "stream",
     "text": [
      "unique_id : 5432 \n",
      "[5255 4948 2146 ... 5226 5390  860]\n",
      "\n",
      "product_unique_id : 2670 \n",
      "[2583 2426 1079 ... 1849 2649  447]\n",
      "\n",
      "name : 2670 \n",
      "['Pastry_196' 'Herb_19' 'Beet_2' ... 'Bread_147' 'Orange_32' 'Turkey_4']\n",
      "\n",
      "L1_category_name_en : 3 \n",
      "['Bakery' 'Fruit and vegetable' 'Meat and fish']\n",
      "\n",
      "L2_category_name_en : 47 \n",
      "['Bakery_L2_14' 'Fruit and vegetable_L2_30' 'Fruit and vegetable_L2_3'\n",
      " 'Meat and fish_L2_13' 'Fruit and vegetable_L2_17' 'Bakery_L2_18'\n",
      " 'Meat and fish_L2_25' 'Fruit and vegetable_L2_1'\n",
      " 'Fruit and vegetable_L2_0' 'Bakery_L2_9' 'Bakery_L2_8' 'Bakery_L2_28'\n",
      " 'Meat and fish_L2_27' 'Bakery_L2_7' 'Bakery_L2_29'\n",
      " 'Fruit and vegetable_L2_12' 'Fruit and vegetable_L2_2' 'Bakery_L2_22'\n",
      " 'Fruit and vegetable_L2_4' 'Bakery_L2_5' 'Fruit and vegetable_L2_6'\n",
      " 'Bakery_L2_35' 'Meat and fish_L2_23' 'Fruit and vegetable_L2_16'\n",
      " 'Meat and fish_L2_38' 'Meat and fish_L2_26' 'Meat and fish_L2_20'\n",
      " 'Bakery_L2_10' 'Fruit and vegetable_L2_37' 'Meat and fish_L2_15'\n",
      " 'Fruit and vegetable_L2_19' 'Fruit and vegetable_L2_11' 'Bakery_L2_34'\n",
      " 'Fruit and vegetable_L2_36' 'Fruit and vegetable_L2_45' 'Bakery_L2_40'\n",
      " 'Fruit and vegetable_L2_42' 'Fruit and vegetable_L2_43'\n",
      " 'Fruit and vegetable_L2_27' 'Fruit and vegetable_L2_41' 'Bakery_L2_44'\n",
      " 'Bakery_L2_24' 'Fruit and vegetable_L2_39' 'Bakery_L2_21'\n",
      " 'Meat and fish_L2_32' 'Fruit and vegetable_L2_31'\n",
      " 'Fruit and vegetable_L2_33']\n",
      "\n",
      "L3_category_name_en : 177 \n",
      "['Bakery_L3_26' 'Fruit and vegetable_L3_86' 'Fruit and vegetable_L3_65'\n",
      " 'Meat and fish_L3_27' 'Fruit and vegetable_L3_33' 'Bakery_L3_77'\n",
      " 'Meat and fish_L3_125' 'Meat and fish_L3_32' 'Fruit and vegetable_L3_39'\n",
      " 'Fruit and vegetable_L3_57' 'Fruit and vegetable_L3_58' 'Bakery_L3_76'\n",
      " 'Fruit and vegetable_L3_23' 'Fruit and vegetable_L3_53'\n",
      " 'Fruit and vegetable_L3_99' 'Fruit and vegetable_L3_15'\n",
      " 'Fruit and vegetable_L3_34' 'Bakery_L3_64' 'Bakery_L3_41' 'Bakery_L3_16'\n",
      " 'Fruit and vegetable_L3_85' 'Bakery_L3_78' 'Fruit and vegetable_L3_5'\n",
      " 'Bakery_L3_171' 'Fruit and vegetable_L3_30' 'Fruit and vegetable_L3_102'\n",
      " 'Meat and fish_L3_33' 'Bakery_L3_75' 'Bakery_L3_55' 'Bakery_L3_74'\n",
      " 'Fruit and vegetable_L3_31' 'Fruit and vegetable_L3_21' 'Bakery_L3_131'\n",
      " 'Fruit and vegetable_L3_20' 'Fruit and vegetable_L3_2' 'Bakery_L3_83'\n",
      " 'Bakery_L3_36' 'Bakery_L3_49' 'Fruit and vegetable_L3_4' 'Bakery_L3_6'\n",
      " 'Fruit and vegetable_L3_9' 'Bakery_L3_120' 'Fruit and vegetable_L3_18'\n",
      " 'Fruit and vegetable_L3_40' 'Bakery_L3_95' 'Bakery_L3_109'\n",
      " 'Meat and fish_L3_25' 'Fruit and vegetable_L3_46' 'Meat and fish_L3_126'\n",
      " 'Fruit and vegetable_L3_124' 'Fruit and vegetable_L3_3'\n",
      " 'Fruit and vegetable_L3_29' 'Fruit and vegetable_L3_121' 'Bakery_L3_37'\n",
      " 'Bakery_L3_51' 'Fruit and vegetable_L3_52' 'Fruit and vegetable_L3_22'\n",
      " 'Fruit and vegetable_L3_8' 'Fruit and vegetable_L3_14'\n",
      " 'Fruit and vegetable_L3_80' 'Fruit and vegetable_L3_136'\n",
      " 'Meat and fish_L3_98' 'Meat and fish_L3_152' 'Meat and fish_L3_45'\n",
      " 'Fruit and vegetable_L3_147' 'Meat and fish_L3_144' 'Bakery_L3_17'\n",
      " 'Bakery_L3_90' 'Fruit and vegetable_L3_63' 'Meat and fish_L3_54'\n",
      " 'Fruit and vegetable_L3_12' 'Bakery_L3_81' 'Bakery_L3_35'\n",
      " 'Fruit and vegetable_L3_42' 'Fruit and vegetable_L3_0' 'Bakery_L3_100'\n",
      " 'Meat and fish_L3_28' 'Fruit and vegetable_L3_160'\n",
      " 'Fruit and vegetable_L3_116' 'Fruit and vegetable_L3_10' 'Bakery_L3_79'\n",
      " 'Fruit and vegetable_L3_44' 'Bakery_L3_110' 'Bakery_L3_13'\n",
      " 'Fruit and vegetable_L3_38' 'Fruit and vegetable_L3_139'\n",
      " 'Fruit and vegetable_L3_19' 'Fruit and vegetable_L3_128'\n",
      " 'Meat and fish_L3_143' 'Bakery_L3_105' 'Meat and fish_L3_24'\n",
      " 'Meat and fish_L3_130' 'Fruit and vegetable_L3_111' 'Bakery_L3_103'\n",
      " 'Meat and fish_L3_72' 'Meat and fish_L3_43' 'Bakery_L3_157'\n",
      " 'Fruit and vegetable_L3_1' 'Bakery_L3_11' 'Fruit and vegetable_L3_92'\n",
      " 'Fruit and vegetable_L3_73' 'Fruit and vegetable_L3_82'\n",
      " 'Fruit and vegetable_L3_84' 'Meat and fish_L3_71'\n",
      " 'Fruit and vegetable_L3_134' 'Bakery_L3_138' 'Fruit and vegetable_L3_7'\n",
      " 'Fruit and vegetable_L3_114' 'Bakery_L3_67' 'Fruit and vegetable_L3_56'\n",
      " 'Bakery_L3_69' 'Meat and fish_L3_62' 'Bakery_L3_88' 'Bakery_L3_123'\n",
      " 'Bakery_L3_50' 'Fruit and vegetable_L3_70' 'Meat and fish_L3_150'\n",
      " 'Fruit and vegetable_L3_127' 'Bakery_L3_94' 'Meat and fish_L3_117'\n",
      " 'Meat and fish_L3_48' 'Meat and fish_L3_115' 'Meat and fish_L3_149'\n",
      " 'Bakery_L3_60' 'Bakery_L3_142' 'Fruit and vegetable_L3_167'\n",
      " 'Meat and fish_L3_174' 'Meat and fish_L3_161' 'Bakery_L3_107'\n",
      " 'Meat and fish_L3_61' 'Meat and fish_L3_118' 'Bakery_L3_104'\n",
      " 'Fruit and vegetable_L3_158' 'Bakery_L3_162' 'Fruit and vegetable_L3_145'\n",
      " 'Bakery_L3_146' 'Meat and fish_L3_168' 'Bakery_L3_133'\n",
      " 'Meat and fish_L3_97' 'Fruit and vegetable_L3_154'\n",
      " 'Fruit and vegetable_L3_101' 'Bakery_L3_151' 'Meat and fish_L3_59'\n",
      " 'Bakery_L3_156' 'Fruit and vegetable_L3_68' 'Fruit and vegetable_L3_87'\n",
      " 'Bakery_L3_148' 'Fruit and vegetable_L3_163' 'Fruit and vegetable_L3_141'\n",
      " 'Bakery_L3_91' 'Meat and fish_L3_108' 'Fruit and vegetable_L3_122'\n",
      " 'Bakery_L3_47' 'Meat and fish_L3_113' 'Fruit and vegetable_L3_155'\n",
      " 'Bakery_L3_132' 'Bakery_L3_66' 'Fruit and vegetable_L3_165'\n",
      " 'Meat and fish_L3_96' 'Fruit and vegetable_L3_135' 'Bakery_L3_170'\n",
      " 'Meat and fish_L3_89' 'Fruit and vegetable_L3_93' 'Meat and fish_L3_164'\n",
      " 'Meat and fish_L3_159' 'Meat and fish_L3_175' 'Meat and fish_L3_129'\n",
      " 'Fruit and vegetable_L3_112' 'Meat and fish_L3_106' 'Bakery_L3_173'\n",
      " 'Fruit and vegetable_L3_119' 'Fruit and vegetable_L3_166' 'Bakery_L3_153'\n",
      " 'Fruit and vegetable_L3_169' 'Fruit and vegetable_L3_172'\n",
      " 'Meat and fish_L3_140' 'Bakery_L3_137']\n",
      "\n",
      "L4_category_name_en : 68 \n",
      "['Bakery_L4_1' 'Fruit and vegetable_L4_1' 'Fruit and vegetable_L4_34'\n",
      " 'Meat and fish_L4_5' 'Meat and fish_L4_50' 'Meat and fish_L4_7'\n",
      " 'Fruit and vegetable_L4_26' 'Fruit and vegetable_L4_22' 'Bakery_L4_3'\n",
      " 'Fruit and vegetable_L4_58' 'Meat and fish_L4_1' 'Bakery_L4_15'\n",
      " 'Fruit and vegetable_L4_19' 'Fruit and vegetable_L4_2' 'Bakery_L4_27'\n",
      " 'Fruit and vegetable_L4_13' 'Fruit and vegetable_L4_24'\n",
      " 'Fruit and vegetable_L4_10' 'Fruit and vegetable_L4_20'\n",
      " 'Meat and fish_L4_29' 'Fruit and vegetable_L4_36' 'Meat and fish_L4_63'\n",
      " 'Fruit and vegetable_L4_18' 'Fruit and vegetable_L4_0'\n",
      " 'Meat and fish_L4_54' 'Fruit and vegetable_L4_14'\n",
      " 'Fruit and vegetable_L4_42' 'Fruit and vegetable_L4_33'\n",
      " 'Fruit and vegetable_L4_41' 'Fruit and vegetable_L4_31'\n",
      " 'Fruit and vegetable_L4_12' 'Meat and fish_L4_59' 'Bakery_L4_30'\n",
      " 'Fruit and vegetable_L4_28' 'Fruit and vegetable_L4_52'\n",
      " 'Fruit and vegetable_L4_57' 'Meat and fish_L4_21' 'Meat and fish_L4_11'\n",
      " 'Bakery_L4_40' 'Fruit and vegetable_L4_45' 'Bakery_L4_55'\n",
      " 'Fruit and vegetable_L4_37' 'Fruit and vegetable_L4_32'\n",
      " 'Fruit and vegetable_L4_38' 'Fruit and vegetable_L4_16'\n",
      " 'Meat and fish_L4_4' 'Meat and fish_L4_44' 'Bakery_L4_9'\n",
      " 'Meat and fish_L4_23' 'Meat and fish_L4_43' 'Meat and fish_L4_62'\n",
      " 'Fruit and vegetable_L4_53' 'Fruit and vegetable_L4_17'\n",
      " 'Fruit and vegetable_L4_65' 'Meat and fish_L4_48'\n",
      " 'Fruit and vegetable_L4_39' 'Meat and fish_L4_51'\n",
      " 'Fruit and vegetable_L4_25' 'Meat and fish_L4_46'\n",
      " 'Fruit and vegetable_L4_60' 'Fruit and vegetable_L4_61'\n",
      " 'Meat and fish_L4_47' 'Meat and fish_L4_6' 'Fruit and vegetable_L4_49'\n",
      " 'Fruit and vegetable_L4_56' 'Bakery_L4_8' 'Fruit and vegetable_L4_35'\n",
      " 'Fruit and vegetable_L4_64']\n",
      "\n",
      "warehouse : 7 \n",
      "['Prague_3' 'Prague_1' 'Frankfurt_1' 'Budapest_1' 'Prague_2' 'Brno_1'\n",
      " 'Munich_1']\n",
      "\n"
     ]
    }
   ],
   "source": [
    "inv_lists =inventory.columns.tolist()\n",
    "\n",
    "for list in inv_lists:\n",
    "    print(f'{list} : {inventory[list].nunique()} \\n{inventory[list].unique()}\\n')\n",
    "\n"
   ]
  },
  {
   "cell_type": "code",
   "execution_count": null,
   "metadata": {},
   "outputs": [],
   "source": []
  }
 ],
 "metadata": {
  "kernelspec": {
   "display_name": "Python 3",
   "language": "python",
   "name": "python3"
  },
  "language_info": {
   "codemirror_mode": {
    "name": "ipython",
    "version": 3
   },
   "file_extension": ".py",
   "mimetype": "text/x-python",
   "name": "python",
   "nbconvert_exporter": "python",
   "pygments_lexer": "ipython3",
   "version": "3.12.6"
  }
 },
 "nbformat": 4,
 "nbformat_minor": 2
}
