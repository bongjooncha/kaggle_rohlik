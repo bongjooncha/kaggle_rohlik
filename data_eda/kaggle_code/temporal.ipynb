{
 "cells": [
  {
   "cell_type": "markdown",
   "metadata": {},
   "source": [
    "## [Pytorch Forecasting | Temporal Fusion Transformer](https://www.kaggle.com/code/crustacean/pytorch-forecasting-temporal-fusion-transformer)"
   ]
  },
  {
   "cell_type": "code",
   "execution_count": null,
   "metadata": {},
   "outputs": [],
   "source": [
    "import pandas as pd\n",
    "\n",
    "train = pd.read_csv('../../data/sales_train.csv')\n",
    "test = pd.read_csv('../../data/sales_test.csv')\n",
    "solution = pd.read_csv('../../data/solution.csv')\n",
    "inv = pd.read_csv('../../data/inventory.csv')\n",
    "cle = pd.read_csv('../../data/calendar.csv')\n",
    "test_weights = pd.read_csv('../../data/test_weights.csv')\n",
    "train = train.merge(inv,on=['warehouse','unique_id'],how='left')\n",
    "train['unique_id_and_name'] = train['unique_id'].astype(str) + '_' + train['name']\n",
    "train['date'] = pd.to_datetime(train['date'])\n",
    "test['date'] = pd.to_datetime(test['date'])"
   ]
  },
  {
   "cell_type": "code",
   "execution_count": null,
   "metadata": {},
   "outputs": [],
   "source": []
  }
 ],
 "metadata": {
  "kernelspec": {
   "display_name": "venv",
   "language": "python",
   "name": "python3"
  },
  "language_info": {
   "name": "python",
   "version": "3.12.6"
  }
 },
 "nbformat": 4,
 "nbformat_minor": 2
}
